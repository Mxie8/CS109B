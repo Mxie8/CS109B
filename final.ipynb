{
 "cells": [
  {
   "cell_type": "markdown",
   "metadata": {},
   "source": [
    "# Emotion Classification of Video Clips\n",
    "### Stuart Neilson, Malvika Menon, Jeff Winchell, Michelle Xie $\\bullet$ Harvard University CS109B Final Project 2019\n",
    "(Group 1)"
   ]
  },
  {
   "cell_type": "markdown",
   "metadata": {},
   "source": [
    "## Problem Statement"
   ]
  },
  {
   "cell_type": "markdown",
   "metadata": {},
   "source": [
    "For this project our group would like to classify the emotions of the human face from a dataset of short video files as accurately as possible."
   ]
  },
  {
   "cell_type": "markdown",
   "metadata": {},
   "source": [
    "## Data Resources"
   ]
  },
  {
   "cell_type": "markdown",
   "metadata": {},
   "source": [
    "We will be using the BAUM-1 dataset (Bahcesehir University Multimodal Face Database of Spontaneous Affective and Mental States), a sample that includes 1500 video clips from 31 subjects who show an unscripted variety of both emotional and mental states in Turkish. Based on stimuli presented, synchronous facial recordings were recorded to classify eight emotions (happiness, anger, sadness, disgust, fear, surprise, boredom, and contempt) and certain mental states (unsureness, thoughtfulness, concentration, interest, bothered). \n",
    "\n",
    "We chose this dataset because 1) it provides a relevant challenge that will utilize the skills learned in this class, 2) is a manageable size, and 3) has a rich variety of data, in some ways more powerful than comparable datasets only recording the six basic emotions, lending possibly more novel predictive power. (Link to data description: http://mimoza.marmara.edu.tr/~cigdem.erdem/BAUM1/)"
   ]
  },
  {
   "cell_type": "markdown",
   "metadata": {},
   "source": [
    "## Strategy & Overview"
   ]
  },
  {
   "cell_type": "markdown",
   "metadata": {},
   "source": [
    "First, we explore the data set and select for certain emotions, making other adjustments along the way that will be described. After loading and processing the data, we then construct three models in the interest of finding the most accurate means of classifying emotions:\n",
    "\n",
    "1. Conv3d\n",
    "2. TimeDistributed Conv2d plus RNN\n",
    "3. \"DeepFace\" based on vgg_face_weights\n",
    "\n",
    "There were many interesting considerations and modifications necessitated along the way including: selection of frames, scaling of data, tweaking of model hyperparameters, etc. We will present the results from these three models and discuss their outcomes as well as other avenues we could have taken in terms of strategy and execution. In the end, we found that the Model 1 correctly predicted 42 emotions (29% of the 144 test videos) and that Model 2 correctly predicted 44 (31%). Lastly, Model 3 always classified inputs as one emotion, an issue we could not overcome sufficiently and will further discuss. With these myriad results, we found relative success in the first two models, and the opposite in the third model, a lesson learnt that will be further detailed. "
   ]
  },
  {
   "cell_type": "markdown",
   "metadata": {},
   "source": [
    "## Literature Review & Model Selection Motivation"
   ]
  },
  {
   "cell_type": "markdown",
   "metadata": {},
   "source": [
    "Videos for emotional classification purposes have been shown to have a unique level of power of prediction, looking at properties like feature-point tracking and texture-based features that can be utilized to train classifiers (Bargal et al. 16). While a snapshot is an important indicator of emotion, the dynamism of the sequence of frames, often supplemented by tonal features of audio components, make videos a powerful yet complicated data set for the purposes of emotional classification. We were inspired by the EmotiW challenge, which looks at real world issues that can be solved with affective computing, with the goal being to benchmark algorithms on ‘in the wild’ data. There are two aspects of our dataset that will be pertinent for this literature review 1) emotional classification strategies and models 2) video analysis. \n",
    "\n",
    "Conventionally, unsupervised learning methods seem to perform less well for this purpose. However, “Emotional classification of Youtube videos” utilizes an ensemble model of both supervised and unsupervised learning methods to classify emotions from Youtube videos with relative success (Chen 17), indicating that such creative strategies might be worth testing in our case. Additionally, an EmotiW Challenge 2016 contender paper also deems that based on reality TV videos, CNN and LSTM-RNN are comparable methods with regards to accuracy (Ding et al. 16). Indeed, based on our exploration, we attempt to use hybridized model structures, as they have been shown to be effective for projects in emotional classification. Conv3d models have been established to be helpful in video analysis, and the incorporation of RNN's has only improved such performance (Fan et al. 16). This research motivates the selection of the first two model structures.  A further examination also indicated that the utilization of VGGFace NN and pretrained weights might make our endeavors in this project more streamlined, motivating our third model's selection. (Rassadin et al 17)"
   ]
  },
  {
   "cell_type": "markdown",
   "metadata": {},
   "source": [
    "### 0. Packages"
   ]
  },
  {
   "cell_type": "code",
   "execution_count": 1,
   "metadata": {},
   "outputs": [
    {
     "name": "stderr",
     "output_type": "stream",
     "text": [
      "Using TensorFlow backend.\n"
     ]
    }
   ],
   "source": [
    "# load packages\n",
    "import pandas as pd\n",
    "import numpy as np\n",
    "import seaborn as sns\n",
    "import matplotlib\n",
    "from matplotlib import pyplot as plt\n",
    "import pylab\n",
    "import imageio\n",
    "import cv2\n",
    "import keras\n",
    "from keras.utils import to_categorical\n",
    "import random\n",
    "import zipfile\n",
    "import os\n",
    "import shutil\n",
    "from keras import Model\n",
    "from keras.models import Sequential\n",
    "from keras.layers.convolutional import Conv3D,MaxPooling3D\n",
    "from keras.layers.wrappers import TimeDistributed\n",
    "from keras.layers.convolutional import Conv2D, MaxPooling2D, ZeroPadding2D\n",
    "from keras.layers import Flatten, Dense, Dropout, Activation, InputLayer\n",
    "from keras.layers.recurrent import LSTM, SimpleRNN\n",
    "from keras.models import model_from_json\n",
    "from collections import Counter\n",
    "import xml.etree.ElementTree as ET"
   ]
  },
  {
   "cell_type": "markdown",
   "metadata": {},
   "source": [
    "### 1. EDA"
   ]
  },
  {
   "cell_type": "markdown",
   "metadata": {},
   "source": [
    "#### a. Examining the Acted Video Dataset"
   ]
  },
  {
   "cell_type": "code",
   "execution_count": 2,
   "metadata": {},
   "outputs": [
    {
     "data": {
      "text/plain": [
       "Number             0\n",
       "Subject Label      0\n",
       "Clip               0\n",
       "Clip Name          0\n",
       "Emotion            0\n",
       "Emotion Code       0\n",
       "Gender             0\n",
       "Unnamed: 7       265\n",
       "Unnamed: 8       255\n",
       "Unnamed: 9       256\n",
       "Unnamed: 10      254\n",
       "dtype: int64"
      ]
     },
     "execution_count": 2,
     "metadata": {},
     "output_type": "execute_result"
    }
   ],
   "source": [
    "# read excel of attributes in\n",
    "dfacted = pd.read_excel('./BAUM/acted/Annotations_BAUM1a.xlsx')\n",
    "# check for null values\n",
    "dfacted.isnull().values.any()\n",
    "# Unnamed columns seem to delineate null values\n",
    "dfacted.isnull().sum()"
   ]
  },
  {
   "cell_type": "code",
   "execution_count": 3,
   "metadata": {},
   "outputs": [
    {
     "data": {
      "text/html": [
       "<div>\n",
       "<style scoped>\n",
       "    .dataframe tbody tr th:only-of-type {\n",
       "        vertical-align: middle;\n",
       "    }\n",
       "\n",
       "    .dataframe tbody tr th {\n",
       "        vertical-align: top;\n",
       "    }\n",
       "\n",
       "    .dataframe thead th {\n",
       "        text-align: right;\n",
       "    }\n",
       "</style>\n",
       "<table border=\"1\" class=\"dataframe\">\n",
       "  <thead>\n",
       "    <tr style=\"text-align: right;\">\n",
       "      <th></th>\n",
       "      <th>Number</th>\n",
       "      <th>Subject Label</th>\n",
       "      <th>Clip</th>\n",
       "      <th>Clip Name</th>\n",
       "      <th>Emotion</th>\n",
       "      <th>Emotion Code</th>\n",
       "      <th>Gender</th>\n",
       "      <th>Unnamed: 7</th>\n",
       "      <th>Unnamed: 8</th>\n",
       "      <th>Unnamed: 9</th>\n",
       "      <th>Unnamed: 10</th>\n",
       "    </tr>\n",
       "  </thead>\n",
       "  <tbody>\n",
       "    <tr>\n",
       "      <th>0</th>\n",
       "      <td>1</td>\n",
       "      <td>1</td>\n",
       "      <td>1</td>\n",
       "      <td>S001_001</td>\n",
       "      <td>Anger</td>\n",
       "      <td>1</td>\n",
       "      <td>M</td>\n",
       "      <td>NaN</td>\n",
       "      <td>Emotion Codes</td>\n",
       "      <td>NaN</td>\n",
       "      <td>Total Count</td>\n",
       "    </tr>\n",
       "    <tr>\n",
       "      <th>1</th>\n",
       "      <td>2</td>\n",
       "      <td>1</td>\n",
       "      <td>2</td>\n",
       "      <td>S001_002</td>\n",
       "      <td>Disgust</td>\n",
       "      <td>3</td>\n",
       "      <td>M</td>\n",
       "      <td>NaN</td>\n",
       "      <td>1</td>\n",
       "      <td>Anger</td>\n",
       "      <td>43</td>\n",
       "    </tr>\n",
       "    <tr>\n",
       "      <th>2</th>\n",
       "      <td>3</td>\n",
       "      <td>1</td>\n",
       "      <td>3</td>\n",
       "      <td>S001_003</td>\n",
       "      <td>Boredom</td>\n",
       "      <td>2</td>\n",
       "      <td>M</td>\n",
       "      <td>NaN</td>\n",
       "      <td>2</td>\n",
       "      <td>Boredom</td>\n",
       "      <td>27</td>\n",
       "    </tr>\n",
       "    <tr>\n",
       "      <th>3</th>\n",
       "      <td>4</td>\n",
       "      <td>1</td>\n",
       "      <td>4</td>\n",
       "      <td>S001_004</td>\n",
       "      <td>Intrest</td>\n",
       "      <td>6</td>\n",
       "      <td>M</td>\n",
       "      <td>NaN</td>\n",
       "      <td>3</td>\n",
       "      <td>Disgust</td>\n",
       "      <td>35</td>\n",
       "    </tr>\n",
       "    <tr>\n",
       "      <th>4</th>\n",
       "      <td>5</td>\n",
       "      <td>2</td>\n",
       "      <td>2</td>\n",
       "      <td>S002_002</td>\n",
       "      <td>Happiness</td>\n",
       "      <td>5</td>\n",
       "      <td>M</td>\n",
       "      <td>NaN</td>\n",
       "      <td>4</td>\n",
       "      <td>Fear</td>\n",
       "      <td>36</td>\n",
       "    </tr>\n",
       "  </tbody>\n",
       "</table>\n",
       "</div>"
      ],
      "text/plain": [
       "   Number  Subject Label  Clip Clip Name    Emotion  Emotion Code Gender  \\\n",
       "0       1              1     1  S001_001      Anger             1      M   \n",
       "1       2              1     2  S001_002    Disgust             3      M   \n",
       "2       3              1     3  S001_003    Boredom             2      M   \n",
       "3       4              1     4  S001_004    Intrest             6      M   \n",
       "4       5              2     2  S002_002  Happiness             5      M   \n",
       "\n",
       "   Unnamed: 7     Unnamed: 8 Unnamed: 9  Unnamed: 10  \n",
       "0         NaN  Emotion Codes        NaN  Total Count  \n",
       "1         NaN              1      Anger           43  \n",
       "2         NaN              2    Boredom           27  \n",
       "3         NaN              3    Disgust           35  \n",
       "4         NaN              4       Fear           36  "
      ]
     },
     "execution_count": 3,
     "metadata": {},
     "output_type": "execute_result"
    }
   ],
   "source": [
    "# Preview data\n",
    "dfacted.head()"
   ]
  },
  {
   "cell_type": "code",
   "execution_count": 4,
   "metadata": {},
   "outputs": [
    {
     "data": {
      "image/png": "[encoded data removed]",
      "text/plain": [
       "<Figure size 432x288 with 1 Axes>"
      ]
     },
     "metadata": {
      "needs_background": "light"
     },
     "output_type": "display_data"
    }
   ],
   "source": [
    "# Look at frequencies of emotions based on stimuli\n",
    "dfacted['Emotion'].value_counts().plot('bar')\n",
    "plt.tight_layout()\n",
    "plt.savefig(\"figure.png\")"
   ]
  },
  {
   "cell_type": "code",
   "execution_count": 5,
   "metadata": {},
   "outputs": [
    {
     "data": {
      "text/plain": [
       "<matplotlib.axes._subplots.AxesSubplot at 0x7f4d92af04e0>"
      ]
     },
     "execution_count": 5,
     "metadata": {},
     "output_type": "execute_result"
    },
    {
     "data": {
      "image/png": "[encoded data removed]",
      "text/plain": [
       "<Figure size 432x288 with 1 Axes>"
      ]
     },
     "metadata": {
      "needs_background": "light"
     },
     "output_type": "display_data"
    }
   ],
   "source": [
    "# Look at distribution of subjects\n",
    "dfacted['Subject Label'].value_counts().plot('bar')"
   ]
  },
  {
   "cell_type": "code",
   "execution_count": 6,
   "metadata": {},
   "outputs": [
    {
     "data": {
      "text/plain": [
       "<matplotlib.axes._subplots.AxesSubplot at 0x7f4d929f58d0>"
      ]
     },
     "execution_count": 6,
     "metadata": {},
     "output_type": "execute_result"
    },
    {
     "data": {
      "image/png": "[encoded data removed]",
      "text/plain": [
       "<Figure size 432x288 with 1 Axes>"
      ]
     },
     "metadata": {
      "needs_background": "light"
     },
     "output_type": "display_data"
    }
   ],
   "source": [
    "# Map sample distribution of gender\n",
    "dfacted['Gender'].value_counts().plot('bar')"
   ]
  },
  {
   "cell_type": "code",
   "execution_count": 7,
   "metadata": {},
   "outputs": [
    {
     "data": {
      "text/plain": [
       "<matplotlib.axes._subplots.AxesSubplot at 0x7f4d92974940>"
      ]
     },
     "execution_count": 7,
     "metadata": {},
     "output_type": "execute_result"
    },
    {
     "data": {
      "image/png": "[encoded data removed]",
      "text/plain": [
       "<Figure size 576x432 with 1 Axes>"
      ]
     },
     "metadata": {
      "needs_background": "light"
     },
     "output_type": "display_data"
    }
   ],
   "source": [
    "# Looking at whether certain genders are more likely to be classified for different emotional categories\n",
    "dfacted.groupby(['Emotion Code', 'Gender'] )['Gender'].count().unstack(1).plot.bar(figsize=(8, 6))"
   ]
  },
  {
   "cell_type": "markdown",
   "metadata": {},
   "source": [
    "#### b. Examining the Spontaneous Video Dataset"
   ]
  },
  {
   "cell_type": "code",
   "execution_count": 8,
   "metadata": {},
   "outputs": [
    {
     "data": {
      "text/plain": [
       "Number                                 0\n",
       "Subject Label                          0\n",
       "Clip                                   0\n",
       "Clip Name                              0\n",
       "Emotion                                0\n",
       "Emotion Code                           0\n",
       "Gender                                 0\n",
       "Age                                    0\n",
       "Frame number for apex expression    1134\n",
       "Unnamed: 9                          1134\n",
       "Unnamed: 10                         1120\n",
       "Unnamed: 11                         1120\n",
       "Unnamed: 12                         1119\n",
       "dtype: int64"
      ]
     },
     "execution_count": 8,
     "metadata": {},
     "output_type": "execute_result"
    }
   ],
   "source": [
    "# read excel of attributes in\n",
    "dfnonacted = pd.read_excel('./BAUM/Spontaneous/Annotations_BAUM1s.xlsx')\n",
    "# check for null values\n",
    "dfnonacted.isnull().values.any()\n",
    "# Unnamed columns seem to delineate null values\n",
    "dfnonacted.isnull().sum()"
   ]
  },
  {
   "cell_type": "code",
   "execution_count": 9,
   "metadata": {},
   "outputs": [
    {
     "data": {
      "text/html": [
       "<div>\n",
       "<style scoped>\n",
       "    .dataframe tbody tr th:only-of-type {\n",
       "        vertical-align: middle;\n",
       "    }\n",
       "\n",
       "    .dataframe tbody tr th {\n",
       "        vertical-align: top;\n",
       "    }\n",
       "\n",
       "    .dataframe thead th {\n",
       "        text-align: right;\n",
       "    }\n",
       "</style>\n",
       "<table border=\"1\" class=\"dataframe\">\n",
       "  <thead>\n",
       "    <tr style=\"text-align: right;\">\n",
       "      <th></th>\n",
       "      <th>Number</th>\n",
       "      <th>Subject Label</th>\n",
       "      <th>Clip</th>\n",
       "      <th>Clip Name</th>\n",
       "      <th>Emotion</th>\n",
       "      <th>Emotion Code</th>\n",
       "      <th>Gender</th>\n",
       "      <th>Age</th>\n",
       "      <th>Frame number for apex expression</th>\n",
       "      <th>Unnamed: 9</th>\n",
       "      <th>Unnamed: 10</th>\n",
       "      <th>Unnamed: 11</th>\n",
       "      <th>Unnamed: 12</th>\n",
       "    </tr>\n",
       "  </thead>\n",
       "  <tbody>\n",
       "    <tr>\n",
       "      <th>0</th>\n",
       "      <td>1</td>\n",
       "      <td>1</td>\n",
       "      <td>5</td>\n",
       "      <td>S001_005</td>\n",
       "      <td>Unsure</td>\n",
       "      <td>13</td>\n",
       "      <td>M</td>\n",
       "      <td>23</td>\n",
       "      <td>NaN</td>\n",
       "      <td>NaN</td>\n",
       "      <td>Emotion Codes</td>\n",
       "      <td>NaN</td>\n",
       "      <td>Total Count</td>\n",
       "    </tr>\n",
       "    <tr>\n",
       "      <th>1</th>\n",
       "      <td>2</td>\n",
       "      <td>1</td>\n",
       "      <td>6</td>\n",
       "      <td>S001_006</td>\n",
       "      <td>Thinking</td>\n",
       "      <td>12</td>\n",
       "      <td>M</td>\n",
       "      <td>23</td>\n",
       "      <td>NaN</td>\n",
       "      <td>NaN</td>\n",
       "      <td>1</td>\n",
       "      <td>Anger</td>\n",
       "      <td>59</td>\n",
       "    </tr>\n",
       "    <tr>\n",
       "      <th>2</th>\n",
       "      <td>3</td>\n",
       "      <td>1</td>\n",
       "      <td>7</td>\n",
       "      <td>S001_007</td>\n",
       "      <td>Concentrating</td>\n",
       "      <td>4</td>\n",
       "      <td>M</td>\n",
       "      <td>23</td>\n",
       "      <td>NaN</td>\n",
       "      <td>NaN</td>\n",
       "      <td>2</td>\n",
       "      <td>Boredom</td>\n",
       "      <td>22</td>\n",
       "    </tr>\n",
       "    <tr>\n",
       "      <th>3</th>\n",
       "      <td>4</td>\n",
       "      <td>1</td>\n",
       "      <td>8</td>\n",
       "      <td>S001_008</td>\n",
       "      <td>Concentrating</td>\n",
       "      <td>4</td>\n",
       "      <td>M</td>\n",
       "      <td>23</td>\n",
       "      <td>NaN</td>\n",
       "      <td>NaN</td>\n",
       "      <td>3</td>\n",
       "      <td>Bothered</td>\n",
       "      <td>91</td>\n",
       "    </tr>\n",
       "    <tr>\n",
       "      <th>4</th>\n",
       "      <td>5</td>\n",
       "      <td>1</td>\n",
       "      <td>9</td>\n",
       "      <td>S001_009</td>\n",
       "      <td>Unsure</td>\n",
       "      <td>13</td>\n",
       "      <td>M</td>\n",
       "      <td>23</td>\n",
       "      <td>NaN</td>\n",
       "      <td>NaN</td>\n",
       "      <td>4</td>\n",
       "      <td>Concentrating</td>\n",
       "      <td>64</td>\n",
       "    </tr>\n",
       "  </tbody>\n",
       "</table>\n",
       "</div>"
      ],
      "text/plain": [
       "   Number  Subject Label  Clip Clip Name        Emotion  Emotion Code Gender  \\\n",
       "0       1              1     5  S001_005         Unsure            13      M   \n",
       "1       2              1     6  S001_006       Thinking            12      M   \n",
       "2       3              1     7  S001_007  Concentrating             4      M   \n",
       "3       4              1     8  S001_008  Concentrating             4      M   \n",
       "4       5              1     9  S001_009         Unsure            13      M   \n",
       "\n",
       "   Age  Frame number for apex expression  Unnamed: 9     Unnamed: 10  \\\n",
       "0   23                               NaN         NaN  Emotion Codes    \n",
       "1   23                               NaN         NaN               1   \n",
       "2   23                               NaN         NaN               2   \n",
       "3   23                               NaN         NaN               3   \n",
       "4   23                               NaN         NaN               4   \n",
       "\n",
       "     Unnamed: 11   Unnamed: 12  \n",
       "0            NaN  Total Count   \n",
       "1          Anger            59  \n",
       "2        Boredom            22  \n",
       "3       Bothered            91  \n",
       "4  Concentrating            64  "
      ]
     },
     "execution_count": 9,
     "metadata": {},
     "output_type": "execute_result"
    }
   ],
   "source": [
    "dfnonacted.head()"
   ]
  },
  {
   "cell_type": "code",
   "execution_count": 10,
   "metadata": {},
   "outputs": [
    {
     "data": {
      "image/png": "[encoded data removed]",
      "text/plain": [
       "<Figure size 432x288 with 1 Axes>"
      ]
     },
     "metadata": {
      "needs_background": "light"
     },
     "output_type": "display_data"
    }
   ],
   "source": [
    "# Look at frequencies of emotions based on stimuli\n",
    "dfnonacted['Emotion'].value_counts().plot('bar')\n",
    "plt.tight_layout()\n",
    "plt.savefig(\"figure.png\")"
   ]
  },
  {
   "cell_type": "markdown",
   "metadata": {},
   "source": [
    "Note that that the distribution of emotions is less equal when thes videos are spontaneous."
   ]
  },
  {
   "cell_type": "code",
   "execution_count": 11,
   "metadata": {},
   "outputs": [
    {
     "data": {
      "text/plain": [
       "<matplotlib.axes._subplots.AxesSubplot at 0x7f4d927e27f0>"
      ]
     },
     "execution_count": 11,
     "metadata": {},
     "output_type": "execute_result"
    },
    {
     "data": {
      "image/png": "[encoded data removed]",
      "text/plain": [
       "<Figure size 432x288 with 1 Axes>"
      ]
     },
     "metadata": {
      "needs_background": "light"
     },
     "output_type": "display_data"
    }
   ],
   "source": [
    "# Look at distribution of subjects\n",
    "dfnonacted['Subject Label'].value_counts().plot('bar')"
   ]
  },
  {
   "cell_type": "code",
   "execution_count": 12,
   "metadata": {},
   "outputs": [
    {
     "data": {
      "text/plain": [
       "<matplotlib.axes._subplots.AxesSubplot at 0x7f4d926d6898>"
      ]
     },
     "execution_count": 12,
     "metadata": {},
     "output_type": "execute_result"
    },
    {
     "data": {
      "image/png": "[encoded data removed]",
      "text/plain": [
       "<Figure size 432x288 with 1 Axes>"
      ]
     },
     "metadata": {
      "needs_background": "light"
     },
     "output_type": "display_data"
    }
   ],
   "source": [
    "# Map sample distribution of gender\n",
    "dfnonacted['Gender'].value_counts().plot('bar')"
   ]
  },
  {
   "cell_type": "code",
   "execution_count": 13,
   "metadata": {},
   "outputs": [
    {
     "data": {
      "text/plain": [
       "<matplotlib.axes._subplots.AxesSubplot at 0x7f4d9263e0f0>"
      ]
     },
     "execution_count": 13,
     "metadata": {},
     "output_type": "execute_result"
    },
    {
     "data": {
      "image/png": "[encoded data removed]",
      "text/plain": [
       "<Figure size 576x432 with 1 Axes>"
      ]
     },
     "metadata": {
      "needs_background": "light"
     },
     "output_type": "display_data"
    }
   ],
   "source": [
    "# Looking at whether certain genders are more likely to be classified for different emotional categories\n",
    "dfacted.groupby(['Emotion Code', 'Gender'] )['Gender'].count().unstack(1).plot.bar(figsize=(8, 6))"
   ]
  },
  {
   "cell_type": "markdown",
   "metadata": {},
   "source": [
    "### Note that both of these subsets of the whole dataset of videos offer differential distributions and likely offer varied conclusions when utilized to train for classifications."
   ]
  },
  {
   "cell_type": "markdown",
   "metadata": {},
   "source": [
    "#### c. Looking at a possible supplemental data set (EmotiW 2019 Audio-Video Emotion Recognition)"
   ]
  },
  {
   "cell_type": "code",
   "execution_count": 14,
   "metadata": {},
   "outputs": [],
   "source": [
    "#tree = ET.parse(\"Train/Train_6.xml\")\n",
    "#root = tree.getroot()\n",
    "#\n",
    "#get_range = lambda col: range(len(col))\n",
    "#l = [{r[i].tag:r[i].text for i in get_range(r)} for r in root]\n",
    "#\n",
    "#EmotiW_df = pd.DataFrame.from_dict(l)\n",
    "#EmotiW_df.to_csv('file.csv')"
   ]
  },
  {
   "cell_type": "code",
   "execution_count": 15,
   "metadata": {},
   "outputs": [],
   "source": [
    "#EmotiW_df = pd.read_csv('file.csv')\n",
    "\n",
    "#EmotiW_df.head()"
   ]
  },
  {
   "cell_type": "markdown",
   "metadata": {},
   "source": [
    "#### d. Data Cleaning and Adjustment Decisions based on Data Exploration"
   ]
  },
  {
   "cell_type": "markdown",
   "metadata": {},
   "source": [
    "We are more interested in the spontaneous dataset as this more so mirrors an \"in the wild\" dataset and should allow more versatile tests of classification. Classification data will thus be derived from the \"Emotion Code\" file from the Annotations CSV explored above in part (a).  \"Neutral\" and \"Unsure\" videos are removed for the sake of cleaner classification and clarity. Moreover, we remove the relast common emotions of \"Boredom\", \"Contempt\" and \"Fear.\"  Each remaining emotion is represented by at least 40 videos. Lastly, the data is balanced  with weighted sampling by the generator."
   ]
  },
  {
   "cell_type": "markdown",
   "metadata": {},
   "source": [
    "### 2. Data Processing"
   ]
  },
  {
   "cell_type": "code",
   "execution_count": 16,
   "metadata": {},
   "outputs": [],
   "source": [
    "# read excel of attributes in\n",
    "df_a = pd.read_excel('./BAUM/acted/Annotations_BAUM1a.xlsx').loc[:,['Number','Subject Label','Clip','Clip Name','Emotion','Emotion Code','Gender']]\n",
    "df_s = pd.read_excel('./BAUM/Spontaneous/Annotations_BAUM1s.xlsx').loc[:,['Number','Subject Label','Clip','Clip Name','Emotion','Emotion Code','Gender','Age']]\n",
    "\n",
    "# remove Neutral/Unsure coded vides\n",
    "df_a = df_a[df_a['Emotion Code'] != 9]\n",
    "df_s = df_s[df_s['Emotion Code'] != 9]\n",
    "df_s = df_s[df_s['Emotion Code'] != 13]\n",
    "\n",
    "# remove other categories that are infrequent, to have a more balanced sample \n",
    "df_s = df_s[df_s['Emotion Code'] != 2]\n",
    "df_s = df_s[df_s['Emotion Code'] != 5]\n",
    "df_s = df_s[df_s['Emotion Code'] != 7]\n",
    "\n",
    "df = pd.concat([df_a,df_s],sort=False)"
   ]
  },
  {
   "cell_type": "markdown",
   "metadata": {},
   "source": [
    "Emotion Codes in the Spontaneous Videos:\n",
    "\n",
    "1.\tAnger\n",
    "2.\tBoredom\n",
    "3.\tBothered\n",
    "4.\tConcentrating\n",
    "5.\tContempt\n",
    "6.\tDisgust\n",
    "7.\tFear\n",
    "8.\tHappiness\n",
    "9.\tNeutral\n",
    "10.\tSadness\n",
    "11.\tSurprise\n",
    "12.\tThinking\n",
    "13.\tUnsure \n",
    "\n",
    "Emotion Codes in the Acted Videos:\n",
    "\n",
    "1.\tAnger\n",
    "2.\tBoredom\n",
    "3.\tDisgust\n",
    "4.\tFear\n",
    "5.\tHappiness\n",
    "6.\tInterest\n",
    "7.\tSadness\n",
    "8.\tSurprise\n",
    "9.\tUnsure"
   ]
  },
  {
   "cell_type": "code",
   "execution_count": 17,
   "metadata": {},
   "outputs": [
    {
     "data": {
      "text/plain": [
       "1    42\n",
       "7    37\n",
       "4    35\n",
       "3    34\n",
       "6    28\n",
       "5    26\n",
       "2    26\n",
       "Name: Emotion Code, dtype: int64"
      ]
     },
     "execution_count": 17,
     "metadata": {},
     "output_type": "execute_result"
    }
   ],
   "source": [
    "# look at emotion counts in the acted data set\n",
    "df_a['Emotion Code'].value_counts()"
   ]
  },
  {
   "cell_type": "code",
   "execution_count": 18,
   "metadata": {},
   "outputs": [
    {
     "data": {
      "text/plain": [
       "8     172\n",
       "10    134\n",
       "12    107\n",
       "3      91\n",
       "6      80\n",
       "4      62\n",
       "1      56\n",
       "11     41\n",
       "Name: Emotion Code, dtype: int64"
      ]
     },
     "execution_count": 18,
     "metadata": {},
     "output_type": "execute_result"
    }
   ],
   "source": [
    "# look at emotion counts in the spontaneous data set\n",
    "df_s['Emotion Code'].value_counts()"
   ]
  },
  {
   "cell_type": "code",
   "execution_count": 19,
   "metadata": {},
   "outputs": [
    {
     "name": "stdout",
     "output_type": "stream",
     "text": [
      "(228, 7)\n",
      "(743, 8)\n",
      "(971, 8)\n"
     ]
    }
   ],
   "source": [
    "# examine data set shapes\n",
    "print(df_a.shape)\n",
    "print(df_s.shape)\n",
    "print(df.shape)"
   ]
  },
  {
   "cell_type": "code",
   "execution_count": 20,
   "metadata": {},
   "outputs": [
    {
     "data": {
      "text/html": [
       "<div>\n",
       "<style scoped>\n",
       "    .dataframe tbody tr th:only-of-type {\n",
       "        vertical-align: middle;\n",
       "    }\n",
       "\n",
       "    .dataframe tbody tr th {\n",
       "        vertical-align: top;\n",
       "    }\n",
       "\n",
       "    .dataframe thead th {\n",
       "        text-align: right;\n",
       "    }\n",
       "</style>\n",
       "<table border=\"1\" class=\"dataframe\">\n",
       "  <thead>\n",
       "    <tr style=\"text-align: right;\">\n",
       "      <th></th>\n",
       "      <th>Number</th>\n",
       "      <th>Subject Label</th>\n",
       "      <th>Clip</th>\n",
       "      <th>Clip Name</th>\n",
       "      <th>Emotion</th>\n",
       "      <th>Emotion Code</th>\n",
       "      <th>Gender</th>\n",
       "      <th>Age</th>\n",
       "    </tr>\n",
       "  </thead>\n",
       "  <tbody>\n",
       "    <tr>\n",
       "      <th>0</th>\n",
       "      <td>1</td>\n",
       "      <td>1</td>\n",
       "      <td>1</td>\n",
       "      <td>S001_001</td>\n",
       "      <td>Anger</td>\n",
       "      <td>1</td>\n",
       "      <td>M</td>\n",
       "      <td>NaN</td>\n",
       "    </tr>\n",
       "    <tr>\n",
       "      <th>1</th>\n",
       "      <td>2</td>\n",
       "      <td>1</td>\n",
       "      <td>2</td>\n",
       "      <td>S001_002</td>\n",
       "      <td>Disgust</td>\n",
       "      <td>3</td>\n",
       "      <td>M</td>\n",
       "      <td>NaN</td>\n",
       "    </tr>\n",
       "    <tr>\n",
       "      <th>2</th>\n",
       "      <td>3</td>\n",
       "      <td>1</td>\n",
       "      <td>3</td>\n",
       "      <td>S001_003</td>\n",
       "      <td>Boredom</td>\n",
       "      <td>2</td>\n",
       "      <td>M</td>\n",
       "      <td>NaN</td>\n",
       "    </tr>\n",
       "    <tr>\n",
       "      <th>3</th>\n",
       "      <td>4</td>\n",
       "      <td>1</td>\n",
       "      <td>4</td>\n",
       "      <td>S001_004</td>\n",
       "      <td>Intrest</td>\n",
       "      <td>6</td>\n",
       "      <td>M</td>\n",
       "      <td>NaN</td>\n",
       "    </tr>\n",
       "    <tr>\n",
       "      <th>4</th>\n",
       "      <td>5</td>\n",
       "      <td>2</td>\n",
       "      <td>2</td>\n",
       "      <td>S002_002</td>\n",
       "      <td>Happiness</td>\n",
       "      <td>5</td>\n",
       "      <td>M</td>\n",
       "      <td>NaN</td>\n",
       "    </tr>\n",
       "  </tbody>\n",
       "</table>\n",
       "</div>"
      ],
      "text/plain": [
       "   Number  Subject Label  Clip Clip Name    Emotion  Emotion Code Gender  Age\n",
       "0       1              1     1  S001_001      Anger             1      M  NaN\n",
       "1       2              1     2  S001_002    Disgust             3      M  NaN\n",
       "2       3              1     3  S001_003    Boredom             2      M  NaN\n",
       "3       4              1     4  S001_004    Intrest             6      M  NaN\n",
       "4       5              2     2  S002_002  Happiness             5      M  NaN"
      ]
     },
     "execution_count": 20,
     "metadata": {},
     "output_type": "execute_result"
    }
   ],
   "source": [
    "# preview annotations data\n",
    "df.head()"
   ]
  },
  {
   "cell_type": "code",
   "execution_count": 21,
   "metadata": {},
   "outputs": [
    {
     "name": "stdout",
     "output_type": "stream",
     "text": [
      "Number of videos:  971\n"
     ]
    }
   ],
   "source": [
    "caps = []\n",
    "caps_a = []\n",
    "caps_s = []\n",
    "\n",
    "s_list_a = []\n",
    "f_list_a = []\n",
    "s_list_s = []\n",
    "f_list_s = []\n",
    "\n",
    "\n",
    "# Delineating acted videos and names\n",
    "for i in range(len(df_a)):\n",
    "    s = \"s\" + \"%03d\" % (df_a['Subject Label'].iloc[i])\n",
    "    f = df_a['Clip Name'].iloc[i]\n",
    "    file = './BAUM/acted/' + s + '/' + f + '.mp4'\n",
    "    #label = df_a['Emotion Code'].iloc[i]\n",
    "    caps_a.append(file)\n",
    "    s_list_a.append(s)\n",
    "    f_list_a.append(f)\n",
    "\n",
    "# Delineating spontaneous videos and names\n",
    "for i in range(len(df_s)):\n",
    "    s = \"s\" + \"%03d\" % (df_s['Subject Label'].iloc[i])\n",
    "    f = df_s['Clip Name'].iloc[i]\n",
    "    file = './BAUM/Spontaneous/' + s + '/' + f + '.mp4'\n",
    "    #label = df_s['Emotion Code'].iloc[i]\n",
    "    caps_s.append(file)\n",
    "    s_list_s.append(s)\n",
    "    f_list_s.append(f)\n",
    "    \n",
    "caps = caps_a + caps_s\n",
    "\n",
    "# find total number of videos\n",
    "print(\"Number of videos: \",len(caps))"
   ]
  },
  {
   "cell_type": "code",
   "execution_count": 22,
   "metadata": {},
   "outputs": [
    {
     "data": {
      "text/plain": [
       "599"
      ]
     },
     "execution_count": 22,
     "metadata": {},
     "output_type": "execute_result"
    }
   ],
   "source": [
    "# selecting videos and distribution accordingly\n",
    "np.random.seed(1234567890)\n",
    "selector_s = np.random.uniform(size=len(caps_s))\n",
    "flag_s = selector_s < 0.8\n",
    "sum(flag_s)"
   ]
  },
  {
   "cell_type": "code",
   "execution_count": 23,
   "metadata": {},
   "outputs": [
    {
     "name": "stdout",
     "output_type": "stream",
     "text": [
      "599\n",
      "144\n"
     ]
    }
   ],
   "source": [
    "caps_s_train = []\n",
    "caps_s_test = []\n",
    "\n",
    "for i in range(len(caps_s)):\n",
    "    if flag_s[i] == True: \n",
    "        caps_s_train.append(caps_s[i])\n",
    "    else: caps_s_test.append(caps_s[i])\n",
    "\n",
    "print(len(caps_s_train))\n",
    "print(len(caps_s_test))"
   ]
  },
  {
   "cell_type": "code",
   "execution_count": 24,
   "metadata": {},
   "outputs": [],
   "source": [
    "# load actual videos, including process of unzipping\n",
    "#for i in set(s_list_a):\n",
    "#    os.mkdir('./BAUM/acted/' + i)\n",
    "#for i in set(s_list_s):\n",
    "#    os.mkdir('./BAUM/Spontaneous/' + i)"
   ]
  },
  {
   "cell_type": "code",
   "execution_count": 25,
   "metadata": {},
   "outputs": [],
   "source": [
    "#zip_ref = zipfile.ZipFile('./BAUM1a_MP4_all.zip', 'r')\n",
    "\n",
    "#for i in range(len(caps_a)):\n",
    "#    fname = caps_a[i]\n",
    "#    s = s_list_a[i]\n",
    "#    f = f_list_a[i]\n",
    "#    zip_ref.extract(os.path.join(s,f + '.mp4'))\n",
    "#    src = os.path.join(s,f + '.mp4')\n",
    "#    dst = os.path.join(fname)\n",
    "#    shutil.copyfile(src, dst)"
   ]
  },
  {
   "cell_type": "code",
   "execution_count": 26,
   "metadata": {},
   "outputs": [],
   "source": [
    "#zip_ref = zipfile.ZipFile('./BAUM1s_MP4 - All.zip', 'r')\n",
    "\n",
    "#for i in range(len(caps_s)):\n",
    "#    fname = caps_s[i]\n",
    "#    s = s_list_s[i]\n",
    "#    f = f_list_s[i]\n",
    "#    zip_ref.extract(os.path.join(s,f + '.mp4'))\n",
    "#    src = os.path.join(s,f + '.mp4')\n",
    "#    dst = os.path.join(fname)\n",
    "#    shutil.copyfile(src, dst)    "
   ]
  },
  {
   "attachments": {
    "Acted_Frame_Distribution.jpg": {
     "image/jpeg": "[encoded data removed]"
    },
    "Spontaneous_Frame_Distribution.jpg": {
     "image/jpeg": "[encoded data removed]"
    }
   },
   "cell_type": "markdown",
   "metadata": {},
   "source": [
    "Based on data exploration, we found that videos have differential frame lengths (images below), so then came the decision of which frames to select for. \n",
    "\n",
    "We tried 2 approaches:\n",
    "- stretching or shrinking videos (speeding up or slowing down) to make them the same length\n",
    "- starting from a randomly selecting beginning frame, rolling forward from there a defined number of frames, and if the end of the video is reached, go the the beginning and continue rolling forward\n",
    "\n",
    "We decided with the second method to define our samples by randomly selecting frames from within videos. This requires knowing beforehand how many frames are in each video. We declared this function to run it to build a list of video lengths.\n",
    "\n",
    "![Acted_Frame_Distribution.jpg](attachment:Acted_Frame_Distribution.jpg)\n",
    "\n",
    "![Spontaneous_Frame_Distribution.jpg](attachment:Spontaneous_Frame_Distribution.jpg)"
   ]
  },
  {
   "cell_type": "code",
   "execution_count": 27,
   "metadata": {},
   "outputs": [
    {
     "name": "stdout",
     "output_type": "stream",
     "text": [
      "505\n",
      "962\n",
      "17\n",
      "9\n"
     ]
    }
   ],
   "source": [
    "# frame count for functions as described\n",
    "def get_frame_count(fn):\n",
    "    cap = cv2.VideoCapture(fn)\n",
    "    ret = True\n",
    "    for i in range(10000):\n",
    "        ret, _ = cap.read()\n",
    "        if ret == False:\n",
    "            return i\n",
    "\n",
    "num_frames_a = []\n",
    "num_frames_s = []\n",
    "num_frames_s_train = []\n",
    "num_frames_s_test = []\n",
    "\n",
    "for i in range(len(caps_a)):\n",
    "    num_frames_a.append(get_frame_count(caps_a[i]))\n",
    "for i in range(len(caps_s)):\n",
    "    num_frames_s.append(get_frame_count(caps_s[i])) \n",
    "    if flag_s[i] == True: \n",
    "        num_frames_s_train.append(get_frame_count(caps_s[i]))\n",
    "    else: num_frames_s_test.append(get_frame_count(caps_s[i]))\n",
    "    \n",
    "    \n",
    "print(max(num_frames_a))\n",
    "print(max(num_frames_s))\n",
    "print(min(num_frames_a))\n",
    "print(min(num_frames_s))"
   ]
  },
  {
   "cell_type": "code",
   "execution_count": 28,
   "metadata": {},
   "outputs": [
    {
     "name": "stdout",
     "output_type": "stream",
     "text": [
      "1.0000000000000013\n",
      "0.9999999999999996\n",
      "0.9999999999999974\n",
      "1.0000000000000004\n"
     ]
    }
   ],
   "source": [
    "# looking at train and test splits\n",
    "train_emotions = []\n",
    "test_emotions = []\n",
    "for i in range(len(df_s)):\n",
    "    if flag_s[i] == True: \n",
    "        train_emotions.append(df_s['Emotion Code'].iloc[i])  \n",
    "    else: test_emotions.append(df_s['Emotion Code'].iloc[i]) \n",
    "\n",
    "freq_a = Counter(df_a['Emotion Code'])\n",
    "freq_s = Counter(df_s['Emotion Code'])\n",
    "freq_s_train = Counter(train_emotions)\n",
    "\n",
    "# determining weights - used for weighted sampling by the generators in order to train on a balanced sample\n",
    "weights_a = np.zeros(len(caps_a))\n",
    "weights_s = np.zeros(len(caps_s))\n",
    "weights_s_train = np.zeros(len(train_emotions))\n",
    "weights_s_test = np.zeros(len(test_emotions))\n",
    "\n",
    "for i in range(len(caps_a)):\n",
    "    weights_a[i] = 1/freq_a[df_a['Emotion Code'].iloc[i]]\n",
    "weights_a = weights_a / sum(weights_a)  \n",
    "\n",
    "for i in range(len(caps_s)):\n",
    "    weights_s[i] = 1/freq_s[df_s['Emotion Code'].iloc[i]]\n",
    "weights_s = weights_s / sum(weights_s)  \n",
    "\n",
    "for i in range(len(train_emotions)):\n",
    "    weights_s_train[i] = 1/freq_s[train_emotions[i]]\n",
    "weights_s_train = weights_s_train / sum(weights_s_train) \n",
    "\n",
    "for i in range(len(test_emotions)):\n",
    "    weights_s_test[i] = 1/freq_s[test_emotions[i]]\n",
    "weights_s_test = weights_s_test / sum(weights_s_test) \n",
    "\n",
    "# weights derived\n",
    "print(sum(weights_a))\n",
    "print(sum(weights_s))\n",
    "print(sum(weights_s_train))\n",
    "print(sum(weights_s_test))"
   ]
  },
  {
   "cell_type": "code",
   "execution_count": 29,
   "metadata": {},
   "outputs": [],
   "source": [
    "# categorical classes for the sake of classification output\n",
    "emotion_cat_a = keras.utils.to_categorical(df_a['Emotion Code'])\n",
    "emotion_cat_s = keras.utils.to_categorical(df_s['Emotion Code'])\n",
    "emotion_cat_s_train = keras.utils.to_categorical(train_emotions)\n",
    "emotion_cat_s_test = keras.utils.to_categorical(test_emotions)"
   ]
  },
  {
   "cell_type": "code",
   "execution_count": 30,
   "metadata": {},
   "outputs": [],
   "source": [
    "# generators to be used for the training\n",
    "# we are training with generators because the complete data would not fit in memory\n",
    "\n",
    "def one_frame_to_tensor(frame_ind,file,dim1,dim2,channels):\n",
    "    one_frame_tensor = np.zeros((dim1,dim2,channels),dtype=int)\n",
    "    cap = cv2.VideoCapture(file)\n",
    "    #x = np.zeros(480, 854, 3)\n",
    "    for j in range(frame_ind+1):\n",
    "        _, x = cap.read()\n",
    "    one_frame_tensor[:,:,0] = cv2.resize(x[:,187:667,:],(dim2,dim1))[:,:,2] / 255\n",
    "    one_frame_tensor[:,:,1] = cv2.resize(x[:187:667,:],(dim2,dim1))[:,:,1] / 255\n",
    "    one_frame_tensor[:,:,2] = cv2.resize(x[:,187:667,:],(dim2,dim1))[:,:,0] / 255\n",
    "    return one_frame_tensor\n",
    "\n",
    "# frame generator function to define batches\n",
    "def frames_generator(caps_list,emotions_list,num_frames_list,weights_list,batch_size = 32,rand_ind=True):\n",
    "    while True:\n",
    "        batch_inds = np.random.choice(range(len(caps_list)),batch_size,p=weights_list)\n",
    "        if rand_ind == False:\n",
    "            batch_inds = np.array(range(batch_size))\n",
    "        \n",
    "        batch_input = []\n",
    "        batch_output = []\n",
    "\n",
    "        for ind in batch_inds:\n",
    "            frame_count = num_frames_list[ind]\n",
    "            frame_ind = random.sample(range(frame_count),1)[0]\n",
    "            input = one_frame_to_tensor(frame_ind,caps_list[ind],224,224,3)\n",
    "            output = emotions_list[ind]\n",
    "            batch_input += [input]\n",
    "            batch_output += [output]\n",
    "        batch_x = np.array(batch_input)\n",
    "        batch_y = np.array(batch_output)\n",
    "\n",
    "        #return batch_x, batch_y\n",
    "        yield batch_x, batch_y      \n",
    "\n",
    "# frame selection functions as necessitated by distribution of frame sizes\n",
    "\n",
    "def vid_frame_selector(fn,frame_start,frame_count=20,frame_jump=1,dim1=128,dim2=128,channels=3):\n",
    "    vid_tensor = np.zeros((frame_count,dim1,dim2,channels),dtype=int)\n",
    "    cap = cv2.VideoCapture(fn)\n",
    "    for i in range(frame_start):\n",
    "        _, _ = cap.read()\n",
    "    for i in range(frame_count):   \n",
    "        for j in range(frame_jump):\n",
    "            ret, x = cap.read()\n",
    "            if ret == False: \n",
    "                cap = cv2.VideoCapture(fn)\n",
    "                ret, x = cap.read()\n",
    "        vid_tensor[i,:,:,0] = cv2.resize(x[:,187:667,:],(dim2,dim1))[:,:,2] / 255\n",
    "        vid_tensor[i,:,:,1] = cv2.resize(x[:,187:667,:],(dim2,dim1))[:,:,1] / 255\n",
    "        vid_tensor[i,:,:,2] = cv2.resize(x[:,187:667,:],(dim2,dim1))[:,:,0] / 255\n",
    "    return vid_tensor \n",
    " \n",
    "# using random frame selection \n",
    "def frames_select_generator(caps_list,emotions_list,num_frames_list,weights_list,batch_size = 32,count=20,frame_jump=1,rand_ind=True):\n",
    "    while True:\n",
    "\n",
    "        batch_x = np.zeros((batch_size,count,128,128,3),dtype=int)\n",
    "        \n",
    "        batch_inds = np.random.choice(range(len(caps_list)),batch_size,p=weights_list)\n",
    "        if rand_ind == False:\n",
    "            batch_inds = np.array(range(batch_size))\n",
    "        batch_input = []\n",
    "        batch_output = []\n",
    "\n",
    "        for i in range(len(batch_inds)):\n",
    "            ind = batch_inds[i]\n",
    "            frame_count = num_frames_list[ind]\n",
    "            frame_ind = random.sample(range(frame_count),1)[0]\n",
    "            input = vid_frame_selector(caps_list[ind],frame_ind,count,frame_jump,128,128,3)\n",
    "            output = emotions_list[ind]\n",
    "            batch_x[i,:,:,:,:] = input\n",
    "            batch_output += [output]\n",
    "        batch_y = np.array(batch_output)\n",
    "\n",
    "        #return batch_x, batch_y\n",
    "        yield batch_x, batch_y\n",
    "\n",
    "        "
   ]
  },
  {
   "cell_type": "markdown",
   "metadata": {},
   "source": [
    "### 3. Models"
   ]
  },
  {
   "cell_type": "markdown",
   "metadata": {},
   "source": [
    "#### We have decided to focus on three main models: \n",
    "PART A\n",
    " 1. Conv3d\n",
    " 2. TimeDistributed Conv3d plus recurrent\n",
    "\n",
    "PART B\n",
    " 3. \"DeepFace\" based on vgg_face_weights\n",
    " \n",
    "Then a summary of results: \n",
    "\n",
    "PART C:\n",
    "\n",
    "\n",
    "    Predicted vs. Actual + Summary Results"
   ]
  },
  {
   "cell_type": "markdown",
   "metadata": {},
   "source": [
    "#### PART A"
   ]
  },
  {
   "cell_type": "markdown",
   "metadata": {},
   "source": [
    "#### i. Creation/compilation of Models 1 and 2"
   ]
  },
  {
   "cell_type": "markdown",
   "metadata": {},
   "source": [
    "#### Model 1: C3D"
   ]
  },
  {
   "cell_type": "markdown",
   "metadata": {},
   "source": [
    "C3D has been shown to be effective in video analysis tasks, with the ability to process appearance and information about motion at the same time (Fan et al. 16). (A variant also might include a linear classifier, which also performs well according to video analysis benchmarks.) Most importantly, C3D networks have shown to perform well in emotion recognition, so it is a worthy model structure to look at. "
   ]
  },
  {
   "cell_type": "code",
   "execution_count": 31,
   "metadata": {},
   "outputs": [],
   "source": [
    "# model creation/compilation\n",
    "def Create_Conv3D(input_shape,classes_count):\n",
    "\n",
    "    model = Sequential()\n",
    "    model.add(Conv3D(filters=32, kernel_size=(3,3,3), activation='relu', input_shape=input_shape))\n",
    "    model.add(MaxPooling3D(pool_size=(1, 2, 2), strides=(1, 2, 2)))\n",
    "    model.add(Conv3D(filters=32, kernel_size=(3,3,3), activation='relu'))\n",
    "    model.add(MaxPooling3D(pool_size=(1, 2, 2), strides=(1, 2, 2)))\n",
    "    model.add(Conv3D(filters=64, kernel_size=(3,3,3), activation='relu'))\n",
    "    model.add(MaxPooling3D(pool_size=(1, 2, 2), strides=(1, 2, 2)))\n",
    "    model.add(Conv3D(filters=64, kernel_size=(3,3,3), activation='relu'))\n",
    "    model.add(MaxPooling3D(pool_size=(1, 2, 2), strides=(1, 2, 2)))\n",
    "    model.add(Flatten())\n",
    "    model.add(Dense(64))\n",
    "    model.add(Dropout(0.2))\n",
    "    model.add(Dense(units=classes_count, activation='softmax'))\n",
    "    model.compile(optimizer='rmsprop', loss='categorical_crossentropy', metrics=['accuracy'])\n",
    "    return(model)"
   ]
  },
  {
   "cell_type": "code",
   "execution_count": 32,
   "metadata": {},
   "outputs": [
    {
     "name": "stdout",
     "output_type": "stream",
     "text": [
      "_________________________________________________________________\n",
      "Layer (type)                 Output Shape              Param #   \n",
      "=================================================================\n",
      "conv3d_1 (Conv3D)            (None, 18, 126, 126, 32)  2624      \n",
      "_________________________________________________________________\n",
      "max_pooling3d_1 (MaxPooling3 (None, 18, 63, 63, 32)    0         \n",
      "_________________________________________________________________\n",
      "conv3d_2 (Conv3D)            (None, 16, 61, 61, 32)    27680     \n",
      "_________________________________________________________________\n",
      "max_pooling3d_2 (MaxPooling3 (None, 16, 30, 30, 32)    0         \n",
      "_________________________________________________________________\n",
      "conv3d_3 (Conv3D)            (None, 14, 28, 28, 64)    55360     \n",
      "_________________________________________________________________\n",
      "max_pooling3d_3 (MaxPooling3 (None, 14, 14, 14, 64)    0         \n",
      "_________________________________________________________________\n",
      "conv3d_4 (Conv3D)            (None, 12, 12, 12, 64)    110656    \n",
      "_________________________________________________________________\n",
      "max_pooling3d_4 (MaxPooling3 (None, 12, 6, 6, 64)      0         \n",
      "_________________________________________________________________\n",
      "flatten_1 (Flatten)          (None, 27648)             0         \n",
      "_________________________________________________________________\n",
      "dense_1 (Dense)              (None, 64)                1769536   \n",
      "_________________________________________________________________\n",
      "dropout_1 (Dropout)          (None, 64)                0         \n",
      "_________________________________________________________________\n",
      "dense_2 (Dense)              (None, 13)                845       \n",
      "=================================================================\n",
      "Total params: 1,966,701\n",
      "Trainable params: 1,966,701\n",
      "Non-trainable params: 0\n",
      "_________________________________________________________________\n"
     ]
    }
   ],
   "source": [
    "# summarize\n",
    "model1=Create_Conv3D(input_shape=(20,128,128,3),classes_count=emotion_cat_s.shape[1])\n",
    "model1.summary()"
   ]
  },
  {
   "cell_type": "markdown",
   "metadata": {},
   "source": [
    "#### Model 2: Conv 2D Time Distributed + RNN model"
   ]
  },
  {
   "cell_type": "markdown",
   "metadata": {},
   "source": [
    "In the same study referenced to above, Conv2d's classification abilites have been shown to be heightened. The hybrid network with C2D and RNN has been shown to improve results for emotional classification, and thus, such hybridization is worth a simulation. (Fan et al. 16)"
   ]
  },
  {
   "cell_type": "code",
   "execution_count": 33,
   "metadata": {},
   "outputs": [],
   "source": [
    "# model creation/compilation\n",
    "def Create_LRCN(input_shape,classes_count):\n",
    "    #lrcn - sequence length\n",
    "    #https://github.com/udacity/self-driving-car/blob/master/steering-models/community-models/chauffeur/models.py\n",
    "    #Heavily influenced by VGG-16:\n",
    "    #https://arxiv.org/abs/1409.1556\n",
    "    #https://arxiv.org/pdf/1411.4389.pdf\n",
    "    #https://github.com/harvitronix/five-video-classification-methods\n",
    "    model = Sequential()\n",
    "\n",
    "    model.add(TimeDistributed(Conv2D(filters=32, kernel_size=(3,3), strides=(2,2), activation='relu'), \n",
    "                              input_shape=input_shape))\n",
    "    model.add(TimeDistributed(MaxPooling2D(pool_size=(2,2), strides=(2,2))))\n",
    "    model.add(TimeDistributed(Conv2D(filters=32, kernel_size=(3,3), kernel_initializer=\"he_normal\", activation='relu')))\n",
    "    model.add(TimeDistributed(MaxPooling2D(pool_size=(2,2), strides=(2,2))))\n",
    "    model.add(TimeDistributed(Conv2D(filters=64, kernel_size=(3,3), kernel_initializer=\"he_normal\", activation='relu')))\n",
    "    model.add(TimeDistributed(MaxPooling2D(pool_size=(2,2), strides=(2,2))))\n",
    "    model.add(TimeDistributed(Conv2D(filters=64, kernel_size=(3,3), kernel_initializer=\"he_normal\", activation='relu')))\n",
    "    model.add(TimeDistributed(Flatten()))\n",
    "    model.add(SimpleRNN(units=64, return_sequences=False, dropout=0.2))\n",
    "    model.add(Dense(units=classes_count, activation='softmax'))\n",
    "    model.compile(optimizer='rmsprop', loss='categorical_crossentropy', metrics=['accuracy'])\n",
    "    return(model)"
   ]
  },
  {
   "cell_type": "code",
   "execution_count": 34,
   "metadata": {},
   "outputs": [
    {
     "name": "stdout",
     "output_type": "stream",
     "text": [
      "_________________________________________________________________\n",
      "Layer (type)                 Output Shape              Param #   \n",
      "=================================================================\n",
      "time_distributed_1 (TimeDist (None, 30, 63, 63, 32)    896       \n",
      "_________________________________________________________________\n",
      "time_distributed_2 (TimeDist (None, 30, 31, 31, 32)    0         \n",
      "_________________________________________________________________\n",
      "time_distributed_3 (TimeDist (None, 30, 29, 29, 32)    9248      \n",
      "_________________________________________________________________\n",
      "time_distributed_4 (TimeDist (None, 30, 14, 14, 32)    0         \n",
      "_________________________________________________________________\n",
      "time_distributed_5 (TimeDist (None, 30, 12, 12, 64)    18496     \n",
      "_________________________________________________________________\n",
      "time_distributed_6 (TimeDist (None, 30, 6, 6, 64)      0         \n",
      "_________________________________________________________________\n",
      "time_distributed_7 (TimeDist (None, 30, 4, 4, 64)      36928     \n",
      "_________________________________________________________________\n",
      "time_distributed_8 (TimeDist (None, 30, 1024)          0         \n",
      "_________________________________________________________________\n",
      "simple_rnn_1 (SimpleRNN)     (None, 64)                69696     \n",
      "_________________________________________________________________\n",
      "dense_3 (Dense)              (None, 13)                845       \n",
      "=================================================================\n",
      "Total params: 136,109\n",
      "Trainable params: 136,109\n",
      "Non-trainable params: 0\n",
      "_________________________________________________________________\n"
     ]
    }
   ],
   "source": [
    "# summarize\n",
    "model2=Create_LRCN(input_shape=(30,128,128,3),classes_count=emotion_cat_s.shape[1])\n",
    "model2.summary()"
   ]
  },
  {
   "cell_type": "markdown",
   "metadata": {},
   "source": [
    "#### ii. Training and plotted accuracy of Models 1 and 2"
   ]
  },
  {
   "cell_type": "markdown",
   "metadata": {},
   "source": [
    "#### Model 1: Training + Accuracy Plot"
   ]
  },
  {
   "cell_type": "code",
   "execution_count": 35,
   "metadata": {},
   "outputs": [
    {
     "name": "stdout",
     "output_type": "stream",
     "text": [
      "Epoch 1/10\n",
      "16/16 [==============================] - 178s 11s/step - loss: 2.7120 - acc: 0.1250 - val_loss: 2.2115 - val_acc: 0.1953\n",
      "Epoch 2/10\n",
      "16/16 [==============================] - 155s 10s/step - loss: 2.1453 - acc: 0.1660 - val_loss: 2.0926 - val_acc: 0.2305\n",
      "Epoch 3/10\n",
      "16/16 [==============================] - 155s 10s/step - loss: 2.0488 - acc: 0.2207 - val_loss: 2.0778 - val_acc: 0.2031\n",
      "Epoch 4/10\n",
      "16/16 [==============================] - 156s 10s/step - loss: 2.0491 - acc: 0.2207 - val_loss: 2.0607 - val_acc: 0.2383\n",
      "Epoch 5/10\n",
      "16/16 [==============================] - 161s 10s/step - loss: 1.8714 - acc: 0.3164 - val_loss: 2.0027 - val_acc: 0.3008\n",
      "Epoch 6/10\n",
      "16/16 [==============================] - 161s 10s/step - loss: 1.6991 - acc: 0.3633 - val_loss: 2.3594 - val_acc: 0.2734\n",
      "Epoch 7/10\n",
      "16/16 [==============================] - 165s 10s/step - loss: 1.5948 - acc: 0.4297 - val_loss: 2.0783 - val_acc: 0.3008\n",
      "Epoch 8/10\n",
      "16/16 [==============================] - 160s 10s/step - loss: 1.4591 - acc: 0.4941 - val_loss: 2.3150 - val_acc: 0.3438\n",
      "Epoch 9/10\n",
      "16/16 [==============================] - 155s 10s/step - loss: 1.2465 - acc: 0.5938 - val_loss: 2.4348 - val_acc: 0.3516\n",
      "Epoch 10/10\n",
      "16/16 [==============================] - 157s 10s/step - loss: 1.1504 - acc: 0.5938 - val_loss: 2.6213 - val_acc: 0.2617\n",
      "CPU times: user 1h 13min 44s, sys: 18min 33s, total: 1h 32min 18s\n",
      "Wall time: 26min 42s\n"
     ]
    }
   ],
   "source": [
    "%%time\n",
    "# training Model 1\n",
    "from keras.callbacks import EarlyStopping\n",
    "early_stopping = EarlyStopping(monitor='val_loss', patience=5)\n",
    "history_conv3d = model1.fit_generator(generator=frames_select_generator(caps_s_train,emotion_cat_s_train,num_frames_s_train,weights_s_train,batch_size = 32,count=20,frame_jump=3),\n",
    "                                  steps_per_epoch=16,\n",
    "                                  epochs=10,\n",
    "                                  verbose=1, \n",
    "                                  callbacks=[early_stopping],\n",
    "                                  validation_data=frames_select_generator(caps_s_test,emotion_cat_s_test,num_frames_s_test,weights_s_test,batch_size = 32,count=20,frame_jump=3),\n",
    "                                  validation_steps= 8)"
   ]
  },
  {
   "cell_type": "code",
   "execution_count": 36,
   "metadata": {},
   "outputs": [],
   "source": [
    "# create training plot to deem accuracy and loss\n",
    "def training_plot(history, model_name):\n",
    "    acc1 = history.history['acc']\n",
    "    val_acc1 = history.history['val_acc']\n",
    "    loss1 = history.history['loss']\n",
    "    val_loss1 = history.history['val_loss']\n",
    "\n",
    "    epochs = range(len(acc1))\n",
    "\n",
    "    plt.plot(epochs,acc1, 'bo', label='Training accuracy')\n",
    "    plt.plot(epochs, val_acc1, 'b', label='Validation accuracy')\n",
    "    plt.title('Training and validation accuracy - ' + model_name)\n",
    "    plt.legend()\n",
    "\n",
    "    plt.figure()\n",
    "\n",
    "    plt.plot(epochs,loss1, 'bo', label='Training loss')\n",
    "    plt.plot(epochs,val_loss1, 'b', label='Validation loss')\n",
    "    plt.title('Training and validation loss - ' + model_name)\n",
    "    plt.legend()\n",
    "\n",
    "    plt.show()"
   ]
  },
  {
   "cell_type": "code",
   "execution_count": 37,
   "metadata": {},
   "outputs": [
    {
     "data": {
      "image/png": "[encoded data removed]",
      "text/plain": [
       "<Figure size 432x288 with 1 Axes>"
      ]
     },
     "metadata": {
      "needs_background": "light"
     },
     "output_type": "display_data"
    },
    {
     "data": {
      "image/png": "[encoded data removed]",
      "text/plain": [
       "<Figure size 432x288 with 1 Axes>"
      ]
     },
     "metadata": {
      "needs_background": "light"
     },
     "output_type": "display_data"
    }
   ],
   "source": [
    "# outcome for Model 1\n",
    "training_plot(history_conv3d,\"3D convolutional\")"
   ]
  },
  {
   "cell_type": "markdown",
   "metadata": {},
   "source": [
    "#### Model 2: Training + Accuracy Plot"
   ]
  },
  {
   "cell_type": "code",
   "execution_count": 38,
   "metadata": {},
   "outputs": [
    {
     "name": "stdout",
     "output_type": "stream",
     "text": [
      "Epoch 1/10\n",
      "16/16 [==============================] - 146s 9s/step - loss: 2.2490 - acc: 0.1445 - val_loss: 2.2293 - val_acc: 0.1094\n",
      "Epoch 2/10\n",
      "16/16 [==============================] - 128s 8s/step - loss: 2.1222 - acc: 0.1738 - val_loss: 2.1419 - val_acc: 0.1055\n",
      "Epoch 3/10\n",
      "16/16 [==============================] - 128s 8s/step - loss: 2.0223 - acc: 0.2070 - val_loss: 2.0970 - val_acc: 0.1758\n",
      "Epoch 4/10\n",
      "16/16 [==============================] - 128s 8s/step - loss: 1.9361 - acc: 0.2676 - val_loss: 2.1056 - val_acc: 0.1914\n",
      "Epoch 5/10\n",
      "16/16 [==============================] - 131s 8s/step - loss: 1.9388 - acc: 0.2676 - val_loss: 2.0605 - val_acc: 0.1914\n",
      "Epoch 6/10\n",
      "16/16 [==============================] - 129s 8s/step - loss: 1.8190 - acc: 0.3027 - val_loss: 2.1247 - val_acc: 0.2500\n",
      "Epoch 7/10\n",
      "16/16 [==============================] - 138s 9s/step - loss: 1.8412 - acc: 0.3027 - val_loss: 2.0379 - val_acc: 0.2773\n",
      "Epoch 8/10\n",
      "16/16 [==============================] - 133s 8s/step - loss: 1.7301 - acc: 0.3672 - val_loss: 2.1153 - val_acc: 0.1758\n",
      "Epoch 9/10\n",
      "16/16 [==============================] - 134s 8s/step - loss: 1.6570 - acc: 0.4082 - val_loss: 2.0983 - val_acc: 0.2422\n",
      "Epoch 10/10\n",
      "16/16 [==============================] - 131s 8s/step - loss: 1.5929 - acc: 0.4297 - val_loss: 2.1680 - val_acc: 0.2656\n",
      "CPU times: user 58min 49s, sys: 16min 50s, total: 1h 15min 40s\n",
      "Wall time: 22min 6s\n"
     ]
    }
   ],
   "source": [
    "%%time\n",
    "# training for Model 2\n",
    "from keras.callbacks import EarlyStopping\n",
    "early_stopping = EarlyStopping(monitor='val_loss', patience=5)\n",
    "history_lrcn = model2.fit_generator(generator=frames_select_generator(caps_s_train,emotion_cat_s_train,num_frames_s_train,weights_s_train,batch_size = 32,count=30,frame_jump=1),\n",
    "                                  steps_per_epoch=16,\n",
    "                                  epochs=10,\n",
    "                                  verbose=1, \n",
    "                                  callbacks=[early_stopping],\n",
    "                                  validation_data=frames_select_generator(caps_s_test,emotion_cat_s_test,num_frames_s_test,weights_s_test,batch_size = 32,count=30,frame_jump=1),\n",
    "                                  validation_steps= 8)"
   ]
  },
  {
   "cell_type": "code",
   "execution_count": 39,
   "metadata": {},
   "outputs": [
    {
     "data": {
      "image/png": "[encoded data removed]",
      "text/plain": [
       "<Figure size 432x288 with 1 Axes>"
      ]
     },
     "metadata": {
      "needs_background": "light"
     },
     "output_type": "display_data"
    },
    {
     "data": {
      "image/png": "[encoded data removed]",
      "text/plain": [
       "<Figure size 432x288 with 1 Axes>"
      ]
     },
     "metadata": {
      "needs_background": "light"
     },
     "output_type": "display_data"
    }
   ],
   "source": [
    "# outcome for Model 2\n",
    "training_plot(history_lrcn,\"2D convolutional plus recurrent\")"
   ]
  },
  {
   "cell_type": "markdown",
   "metadata": {},
   "source": [
    "#### PART B"
   ]
  },
  {
   "cell_type": "markdown",
   "metadata": {},
   "source": [
    "#### i. Creation/compilation of Model 3\n",
    "\n",
    "The Deep Face model is a very large model with 145 million trained parameters.  We have tried to extract a lightweight version of it by taking only some of the layers."
   ]
  },
  {
   "cell_type": "code",
   "execution_count": 40,
   "metadata": {},
   "outputs": [],
   "source": [
    "# create layers and define parameters for Model 3\n",
    "model3 = Sequential()\n",
    "model3.add(ZeroPadding2D((1,1),input_shape=(224,224, 3)))\n",
    "model3.add(Conv2D(64, (3, 3), activation='relu'))\n",
    "model3.add(ZeroPadding2D((1,1)))\n",
    "model3.add(Conv2D(64, (3, 3), activation='relu'))\n",
    "model3.add(MaxPooling2D((2,2), strides=(2,2)))\n",
    " \n",
    "model3.add(ZeroPadding2D((1,1)))\n",
    "model3.add(Conv2D(128, (3, 3), activation='relu'))\n",
    "model3.add(ZeroPadding2D((1,1)))\n",
    "model3.add(Conv2D(128, (3, 3), activation='relu'))\n",
    "model3.add(MaxPooling2D((2,2), strides=(2,2)))\n",
    " \n",
    "model3.add(ZeroPadding2D((1,1)))\n",
    "model3.add(Conv2D(256, (3, 3), activation='relu'))\n",
    "model3.add(ZeroPadding2D((1,1)))\n",
    "model3.add(Conv2D(256, (3, 3), activation='relu'))\n",
    "model3.add(ZeroPadding2D((1,1)))\n",
    "model3.add(Conv2D(256, (3, 3), activation='relu'))\n",
    "model3.add(MaxPooling2D((2,2), strides=(2,2)))\n",
    " \n",
    "model3.add(ZeroPadding2D((1,1)))\n",
    "model3.add(Conv2D(512, (3, 3), activation='relu'))\n",
    "model3.add(ZeroPadding2D((1,1)))\n",
    "model3.add(Conv2D(512, (3, 3), activation='relu'))\n",
    "model3.add(ZeroPadding2D((1,1)))\n",
    "model3.add(Conv2D(512, (3, 3), activation='relu'))\n",
    "model3.add(MaxPooling2D((2,2), strides=(2,2)))\n",
    " \n",
    "model3.add(ZeroPadding2D((1,1)))\n",
    "model3.add(Conv2D(512, (3, 3), activation='relu'))\n",
    "model3.add(ZeroPadding2D((1,1)))\n",
    "model3.add(Conv2D(512, (3, 3), activation='relu'))\n",
    "model3.add(ZeroPadding2D((1,1)))\n",
    "model3.add(Conv2D(512, (3, 3), activation='relu'))\n",
    "model3.add(MaxPooling2D((2,2), strides=(2,2)))\n",
    " \n",
    "model3.add(Conv2D(4096, (7, 7), activation='relu'))\n",
    "model3.add(Dropout(0.5))\n",
    "model3.add(Conv2D(4096, (1, 1), activation='relu'))\n",
    "model3.add(Dropout(0.5))\n",
    "model3.add(Conv2D(2622, (1, 1)))\n",
    "model3.add(Flatten())\n",
    "model3.add(Activation('softmax'))"
   ]
  },
  {
   "cell_type": "code",
   "execution_count": 41,
   "metadata": {},
   "outputs": [
    {
     "name": "stdout",
     "output_type": "stream",
     "text": [
      "_________________________________________________________________\n",
      "Layer (type)                 Output Shape              Param #   \n",
      "=================================================================\n",
      "zero_padding2d_1 (ZeroPaddin (None, 226, 226, 3)       0         \n",
      "_________________________________________________________________\n",
      "conv2d_5 (Conv2D)            (None, 224, 224, 64)      1792      \n",
      "_________________________________________________________________\n",
      "zero_padding2d_2 (ZeroPaddin (None, 226, 226, 64)      0         \n",
      "_________________________________________________________________\n",
      "conv2d_6 (Conv2D)            (None, 224, 224, 64)      36928     \n",
      "_________________________________________________________________\n",
      "max_pooling2d_4 (MaxPooling2 (None, 112, 112, 64)      0         \n",
      "_________________________________________________________________\n",
      "zero_padding2d_3 (ZeroPaddin (None, 114, 114, 64)      0         \n",
      "_________________________________________________________________\n",
      "conv2d_7 (Conv2D)            (None, 112, 112, 128)     73856     \n",
      "_________________________________________________________________\n",
      "zero_padding2d_4 (ZeroPaddin (None, 114, 114, 128)     0         \n",
      "_________________________________________________________________\n",
      "conv2d_8 (Conv2D)            (None, 112, 112, 128)     147584    \n",
      "_________________________________________________________________\n",
      "max_pooling2d_5 (MaxPooling2 (None, 56, 56, 128)       0         \n",
      "_________________________________________________________________\n",
      "zero_padding2d_5 (ZeroPaddin (None, 58, 58, 128)       0         \n",
      "_________________________________________________________________\n",
      "conv2d_9 (Conv2D)            (None, 56, 56, 256)       295168    \n",
      "_________________________________________________________________\n",
      "zero_padding2d_6 (ZeroPaddin (None, 58, 58, 256)       0         \n",
      "_________________________________________________________________\n",
      "conv2d_10 (Conv2D)           (None, 56, 56, 256)       590080    \n",
      "_________________________________________________________________\n",
      "zero_padding2d_7 (ZeroPaddin (None, 58, 58, 256)       0         \n",
      "_________________________________________________________________\n",
      "conv2d_11 (Conv2D)           (None, 56, 56, 256)       590080    \n",
      "_________________________________________________________________\n",
      "max_pooling2d_6 (MaxPooling2 (None, 28, 28, 256)       0         \n",
      "_________________________________________________________________\n",
      "zero_padding2d_8 (ZeroPaddin (None, 30, 30, 256)       0         \n",
      "_________________________________________________________________\n",
      "conv2d_12 (Conv2D)           (None, 28, 28, 512)       1180160   \n",
      "_________________________________________________________________\n",
      "zero_padding2d_9 (ZeroPaddin (None, 30, 30, 512)       0         \n",
      "_________________________________________________________________\n",
      "conv2d_13 (Conv2D)           (None, 28, 28, 512)       2359808   \n",
      "_________________________________________________________________\n",
      "zero_padding2d_10 (ZeroPaddi (None, 30, 30, 512)       0         \n",
      "_________________________________________________________________\n",
      "conv2d_14 (Conv2D)           (None, 28, 28, 512)       2359808   \n",
      "_________________________________________________________________\n",
      "max_pooling2d_7 (MaxPooling2 (None, 14, 14, 512)       0         \n",
      "_________________________________________________________________\n",
      "zero_padding2d_11 (ZeroPaddi (None, 16, 16, 512)       0         \n",
      "_________________________________________________________________\n",
      "conv2d_15 (Conv2D)           (None, 14, 14, 512)       2359808   \n",
      "_________________________________________________________________\n",
      "zero_padding2d_12 (ZeroPaddi (None, 16, 16, 512)       0         \n",
      "_________________________________________________________________\n",
      "conv2d_16 (Conv2D)           (None, 14, 14, 512)       2359808   \n",
      "_________________________________________________________________\n",
      "zero_padding2d_13 (ZeroPaddi (None, 16, 16, 512)       0         \n",
      "_________________________________________________________________\n",
      "conv2d_17 (Conv2D)           (None, 14, 14, 512)       2359808   \n",
      "_________________________________________________________________\n",
      "max_pooling2d_8 (MaxPooling2 (None, 7, 7, 512)         0         \n",
      "_________________________________________________________________\n",
      "conv2d_18 (Conv2D)           (None, 1, 1, 4096)        102764544 \n",
      "_________________________________________________________________\n",
      "dropout_2 (Dropout)          (None, 1, 1, 4096)        0         \n",
      "_________________________________________________________________\n",
      "conv2d_19 (Conv2D)           (None, 1, 1, 4096)        16781312  \n",
      "_________________________________________________________________\n",
      "dropout_3 (Dropout)          (None, 1, 1, 4096)        0         \n",
      "_________________________________________________________________\n",
      "conv2d_20 (Conv2D)           (None, 1, 1, 2622)        10742334  \n",
      "_________________________________________________________________\n",
      "flatten_3 (Flatten)          (None, 2622)              0         \n",
      "_________________________________________________________________\n",
      "activation_1 (Activation)    (None, 2622)              0         \n",
      "=================================================================\n",
      "Total params: 145,002,878\n",
      "Trainable params: 145,002,878\n",
      "Non-trainable params: 0\n",
      "_________________________________________________________________\n"
     ]
    }
   ],
   "source": [
    "# Summarize\n",
    "model3.load_weights('vgg_face_weights.h5')\n",
    "\n",
    "model3.summary()"
   ]
  },
  {
   "cell_type": "code",
   "execution_count": 42,
   "metadata": {},
   "outputs": [
    {
     "name": "stdout",
     "output_type": "stream",
     "text": [
      "_________________________________________________________________\n",
      "Layer (type)                 Output Shape              Param #   \n",
      "=================================================================\n",
      "zero_padding2d_1 (ZeroPaddin (None, 226, 226, 3)       0         \n",
      "_________________________________________________________________\n",
      "conv2d_5 (Conv2D)            (None, 224, 224, 64)      1792      \n",
      "_________________________________________________________________\n",
      "zero_padding2d_2 (ZeroPaddin (None, 226, 226, 64)      0         \n",
      "_________________________________________________________________\n",
      "conv2d_6 (Conv2D)            (None, 224, 224, 64)      36928     \n",
      "_________________________________________________________________\n",
      "max_pooling2d_4 (MaxPooling2 (None, 112, 112, 64)      0         \n",
      "_________________________________________________________________\n",
      "zero_padding2d_3 (ZeroPaddin (None, 114, 114, 64)      0         \n",
      "_________________________________________________________________\n",
      "conv2d_7 (Conv2D)            (None, 112, 112, 128)     73856     \n",
      "_________________________________________________________________\n",
      "zero_padding2d_4 (ZeroPaddin (None, 114, 114, 128)     0         \n",
      "_________________________________________________________________\n",
      "conv2d_8 (Conv2D)            (None, 112, 112, 128)     147584    \n",
      "_________________________________________________________________\n",
      "max_pooling2d_5 (MaxPooling2 (None, 56, 56, 128)       0         \n",
      "_________________________________________________________________\n",
      "zero_padding2d_5 (ZeroPaddin (None, 58, 58, 128)       0         \n",
      "_________________________________________________________________\n",
      "conv2d_9 (Conv2D)            (None, 56, 56, 256)       295168    \n",
      "_________________________________________________________________\n",
      "zero_padding2d_6 (ZeroPaddin (None, 58, 58, 256)       0         \n",
      "_________________________________________________________________\n",
      "conv2d_10 (Conv2D)           (None, 56, 56, 256)       590080    \n",
      "_________________________________________________________________\n",
      "zero_padding2d_7 (ZeroPaddin (None, 58, 58, 256)       0         \n",
      "_________________________________________________________________\n",
      "conv2d_11 (Conv2D)           (None, 56, 56, 256)       590080    \n",
      "_________________________________________________________________\n",
      "max_pooling2d_6 (MaxPooling2 (None, 28, 28, 256)       0         \n",
      "_________________________________________________________________\n",
      "zero_padding2d_8 (ZeroPaddin (None, 30, 30, 256)       0         \n",
      "=================================================================\n",
      "Total params: 1,735,488\n",
      "Trainable params: 590,080\n",
      "Non-trainable params: 1,145,408\n",
      "_________________________________________________________________\n"
     ]
    }
   ],
   "source": [
    "for i in range(20):\n",
    "    model3.pop()\n",
    "\n",
    "for layer in model3.layers[:-3]:\n",
    "    layer.trainable = False\n",
    "\n",
    "model3.summary()"
   ]
  },
  {
   "cell_type": "code",
   "execution_count": 43,
   "metadata": {},
   "outputs": [
    {
     "name": "stdout",
     "output_type": "stream",
     "text": [
      "_________________________________________________________________\n",
      "Layer (type)                 Output Shape              Param #   \n",
      "=================================================================\n",
      "flatten_4 (Flatten)          (None, 230400)            0         \n",
      "_________________________________________________________________\n",
      "dense_4 (Dense)              (None, 32)                7372832   \n",
      "_________________________________________________________________\n",
      "dropout_4 (Dropout)          (None, 32)                0         \n",
      "_________________________________________________________________\n",
      "dense_5 (Dense)              (None, 13)                429       \n",
      "=================================================================\n",
      "Total params: 7,373,261\n",
      "Trainable params: 7,373,261\n",
      "Non-trainable params: 0\n",
      "_________________________________________________________________\n"
     ]
    }
   ],
   "source": [
    "model3a = Sequential()\n",
    "\n",
    "model3a.add(InputLayer(input_shape=(30,30,256)))\n",
    "model3a.add(Flatten())\n",
    "model3a.add(Dense(units=32))\n",
    "model3a.add(Dropout(0.2))\n",
    "model3a.add(Dense(units=emotion_cat_s.shape[1], activation='softmax'))\n",
    "\n",
    "model3a.summary()"
   ]
  },
  {
   "cell_type": "code",
   "execution_count": 44,
   "metadata": {},
   "outputs": [
    {
     "name": "stdout",
     "output_type": "stream",
     "text": [
      "_________________________________________________________________\n",
      "Layer (type)                 Output Shape              Param #   \n",
      "=================================================================\n",
      "sequential_3 (Sequential)    (None, 30, 30, 256)       1735488   \n",
      "_________________________________________________________________\n",
      "sequential_4 (Sequential)    (None, 13)                7373261   \n",
      "=================================================================\n",
      "Total params: 9,108,749\n",
      "Trainable params: 7,963,341\n",
      "Non-trainable params: 1,145,408\n",
      "_________________________________________________________________\n"
     ]
    }
   ],
   "source": [
    "model3b = Sequential([model3, model3a])\n",
    "model3b.compile(optimizer='rmsprop', loss='categorical_crossentropy', metrics=['accuracy'])\n",
    "model3b.summary()\n"
   ]
  },
  {
   "cell_type": "markdown",
   "metadata": {},
   "source": [
    "#### ii. Training and plotted accuracy of Models 3"
   ]
  },
  {
   "cell_type": "code",
   "execution_count": 45,
   "metadata": {},
   "outputs": [
    {
     "name": "stdout",
     "output_type": "stream",
     "text": [
      "Epoch 1/10\n",
      "16/16 [==============================] - 75s 5s/step - loss: 13.7396 - acc: 0.1426 - val_loss: 13.8515 - val_acc: 0.1406\n",
      "Epoch 2/10\n",
      "16/16 [==============================] - 61s 4s/step - loss: 14.4496 - acc: 0.1035 - val_loss: 13.8515 - val_acc: 0.1406\n",
      "Epoch 3/10\n",
      "16/16 [==============================] - 63s 4s/step - loss: 14.5441 - acc: 0.0977 - val_loss: 13.9774 - val_acc: 0.1328\n",
      "Epoch 4/10\n",
      "16/16 [==============================] - 62s 4s/step - loss: 13.9774 - acc: 0.1328 - val_loss: 13.4737 - val_acc: 0.1641\n",
      "Epoch 5/10\n",
      "16/16 [==============================] - 69s 4s/step - loss: 13.8830 - acc: 0.1387 - val_loss: 13.7250 - val_acc: 0.1484\n",
      "Epoch 6/10\n",
      "16/16 [==============================] - 64s 4s/step - loss: 14.2948 - acc: 0.1113 - val_loss: 13.6626 - val_acc: 0.1523\n",
      "Epoch 7/10\n",
      "16/16 [==============================] - 65s 4s/step - loss: 14.6070 - acc: 0.0938 - val_loss: 13.9774 - val_acc: 0.1328\n",
      "Epoch 8/10\n",
      "16/16 [==============================] - 65s 4s/step - loss: 14.0719 - acc: 0.1270 - val_loss: 13.7885 - val_acc: 0.1445\n",
      "Epoch 9/10\n",
      "16/16 [==============================] - 63s 4s/step - loss: 14.3237 - acc: 0.1113 - val_loss: 14.1033 - val_acc: 0.1250\n",
      "CPU times: user 30min 21s, sys: 31.2 s, total: 30min 52s\n",
      "Wall time: 9min 47s\n"
     ]
    }
   ],
   "source": [
    "%%time\n",
    "# training Model 3\n",
    "from keras.callbacks import EarlyStopping\n",
    "early_stopping = EarlyStopping(monitor='val_loss', patience=5)\n",
    "history_vgg = model3b.fit_generator(generator=frames_generator(caps_s_train,emotion_cat_s_train,num_frames_s_train,weights_s_train,batch_size = 32),\n",
    "                                  steps_per_epoch=16,\n",
    "                                  epochs=10,\n",
    "                                  verbose=1, \n",
    "                                  callbacks=[early_stopping],\n",
    "                                  validation_data=frames_generator(caps_s_test,emotion_cat_s_test,num_frames_s_test,weights_s_test,batch_size = 32),\n",
    "                                  validation_steps= 8)"
   ]
  },
  {
   "cell_type": "code",
   "execution_count": 46,
   "metadata": {},
   "outputs": [
    {
     "data": {
      "image/png": "[encoded data removed]",
      "text/plain": [
       "<Figure size 432x288 with 1 Axes>"
      ]
     },
     "metadata": {
      "needs_background": "light"
     },
     "output_type": "display_data"
    },
    {
     "data": {
      "image/png": "[encoded data removed]",
      "text/plain": [
       "<Figure size 432x288 with 1 Axes>"
      ]
     },
     "metadata": {
      "needs_background": "light"
     },
     "output_type": "display_data"
    }
   ],
   "source": [
    "# accuracy outcomes for Model 3\n",
    "training_plot(history_vgg,\"Transfer Learning Model\")"
   ]
  },
  {
   "cell_type": "markdown",
   "metadata": {},
   "source": [
    "#### Part C: Predicted vs. Actual + Summary Results"
   ]
  },
  {
   "cell_type": "code",
   "execution_count": 47,
   "metadata": {},
   "outputs": [],
   "source": [
    "# note: the data used here is the same as the data that was used as validation data while training\n",
    "test_x1, test_y1 = next(frames_select_generator(caps_s_test,emotion_cat_s_test,num_frames_s_test,weights_s_test,batch_size = len(caps_s_test),count=20,frame_jump=3))\n",
    "test_x2, test_y2 = next(frames_select_generator(caps_s_test,emotion_cat_s_test,num_frames_s_test,weights_s_test,batch_size = len(caps_s_test),count=30,frame_jump=1))\n",
    "test_x3, test_y3 = next(frames_generator(caps_s_test,emotion_cat_s_test,num_frames_s_test,weights_s_test,batch_size = len(caps_s_test)))\n",
    "\n",
    "pred1 = model1.predict(test_x1)\n",
    "pred2 = model2.predict(test_x2)\n",
    "pred3 = model3b.predict(test_x3)"
   ]
  },
  {
   "cell_type": "code",
   "execution_count": 48,
   "metadata": {},
   "outputs": [
    {
     "name": "stdout",
     "output_type": "stream",
     "text": [
      "[11  1  6  4  4  8 10  8  6 12 10  4  3  8 10 11 11 10  4  8 10  1  3 10\n",
      "  4  6  8 11 11  4 11  1  3  4  1 12  3  3  3  1 11  3  3  1  8  6  4  1\n",
      "  1  4 12  4  3 10  3  6 12  1  1  4 10  4 10 12 11  4 12  3  3  6  3  3\n",
      "  6  4  1  6 10  3  4  3 11 10 10  4 11 11  3  4  3  3  3  6 12  1  1  3\n",
      "  3 12  4 11 12  4 12 12  4 10  3 10  8  8  4  1 10  3 11 11  1 10  3  4\n",
      " 12  4 11 12 11  8 12 12 10  8  3 11 11 12 11  4 11 11  4  3 11 12  8  4]\n",
      "Counter({3: 27, 4: 26, 11: 22, 10: 17, 12: 17, 1: 15, 8: 11, 6: 9})\n"
     ]
    }
   ],
   "source": [
    "y1 = np.argmax(test_y1,axis=1)\n",
    "print(y1)\n",
    "print(Counter(y1))"
   ]
  },
  {
   "cell_type": "code",
   "execution_count": 49,
   "metadata": {},
   "outputs": [
    {
     "name": "stdout",
     "output_type": "stream",
     "text": [
      "[12  6 10  8  8  8  3  4  8  1 10 12 11  4 10  6 12 11 12  4  1  1 12  8\n",
      " 12  6 10 11  6 12  6  6 12 12  3 11 10  8 12  1  6  1  3  1 12  6  4  1\n",
      "  6 12 12  8  8 12 12  8  4 12 12 12 10 12 10 12  6 12 11 12  8  6  6 10\n",
      "  6 12 12 12 11  8  3 12  6 12  1  8  6 10 10 12  8  1  8  6  3  1 12  6\n",
      "  3 12 12  8 12  8 12 12  8  8  1 12  8 12  4  3 10 11  3  6  1 10  8  4\n",
      " 12 12  3 11 11  8 12 12 10  8  3  6 11  8  6 12 12 10 12 11 12 12  8 12]\n",
      "[11 11  4  4  4  3 12  4 10  6 10  6  8 10  4  8  1  1 10  4  6 10  1  3\n",
      " 10  4  1  4 10 12  6  3 10 10  3  6 10 10  3  6  3  8  6  8  8  6  6 10\n",
      "  3 10  6  6 10  4  4  8  6  6 10  4  8  6  4  6 10  3  6  4  4 10  4  3\n",
      " 11 11  1  3  3 10 12  1 10  6  8  8  3  3  6  6  8  6  4 11  6  8  4  1\n",
      " 10  4  8  1 10  1  1 10  8  6 11  8 10  4 10  1 10  1  8  4  6 11  3  4\n",
      "  4  3  4  6 10  4  4  1 10  6  4 10 12  8  3 10  8 12 12 10 10  4  8  6]\n",
      "[1 1 1 1 1 1 1 1 1 1 1 1 1 1 1 1 1 1 1 1 1 1 1 1 1 1 1 1 1 1 1 1 1 1 1 1 1\n",
      " 1 1 1 1 1 1 1 1 1 1 1 1 1 1 1 1 1 1 1 1 1 1 1 1 1 1 1 1 1 1 1 1 1 1 1 1 1\n",
      " 1 1 1 1 1 1 1 1 1 1 1 1 1 1 1 1 1 1 1 1 1 1 1 1 1 1 1 1 1 1 1 1 1 1 1 1 1\n",
      " 1 1 1 1 1 1 1 1 1 1 1 1 1 1 1 1 1 1 1 1 1 1 1 1 1 1 1 1 1 1 1 1 1]\n"
     ]
    }
   ],
   "source": [
    "x1 = np.argmax(pred1,axis=1)\n",
    "x2 = np.argmax(pred2,axis=1)\n",
    "x3 = np.argmax(pred3,axis=1)\n",
    "\n",
    "print(x1)\n",
    "print(x2)\n",
    "print(x3)"
   ]
  },
  {
   "cell_type": "code",
   "execution_count": 50,
   "metadata": {},
   "outputs": [
    {
     "name": "stdout",
     "output_type": "stream",
     "text": [
      "Conv3D - Predicted versus actual\n",
      "col_0  1   3   4   6   8   10  11  12\n",
      "row_0                                \n",
      "1       6   2   0   3   0   0   0   4\n",
      "3       3   3   0   2   7   3   3   6\n",
      "4       0   1   3   0   6   0   0  16\n",
      "6       0   0   0   5   2   1   0   1\n",
      "8       0   0   3   0   5   1   0   2\n",
      "10      2   1   0   0   2   7   2   3\n",
      "11      0   2   0  10   1   2   3   4\n",
      "12      1   1   1   0   1   0   3  10\n"
     ]
    }
   ],
   "source": [
    "print(\"Conv3D - Predicted versus actual\")\n",
    "print(pd.crosstab(np.argmax(test_y1,axis=1),np.argmax(pred1,axis=1)))"
   ]
  },
  {
   "cell_type": "code",
   "execution_count": 51,
   "metadata": {},
   "outputs": [
    {
     "name": "stdout",
     "output_type": "stream",
     "text": [
      "Conv2D + Recurrent - Predicted versus actual\n",
      "col_0  1   3   4   6   8   10  11  12\n",
      "row_0                                \n",
      "1       5   1   1   3   0   9   0   0\n",
      "3       1   6   1   4   2  10   3   0\n",
      "4       2   3  13   4   0   1   0   0\n",
      "6       1   0   0   5   1   1   1   0\n",
      "8       0   3   2   2   8   0   2   2\n",
      "10      2   1   1   3   0   3   0   1\n",
      "11      2   0   0   4   6   5   1   0\n",
      "12      0   2   9   1   1   2   0   3\n"
     ]
    }
   ],
   "source": [
    "print(\"Conv2D + Recurrent - Predicted versus actual\")\n",
    "print(pd.crosstab(np.argmax(test_y2,axis=1),np.argmax(pred2,axis=1)))"
   ]
  },
  {
   "cell_type": "code",
   "execution_count": 52,
   "metadata": {},
   "outputs": [
    {
     "name": "stdout",
     "output_type": "stream",
     "text": [
      "Transfer Learning - Predicted versus actual\n",
      "col_0   1\n",
      "row_0    \n",
      "1      19\n",
      "3      18\n",
      "4      26\n",
      "6      16\n",
      "8      15\n",
      "10     14\n",
      "11     18\n",
      "12     18\n"
     ]
    }
   ],
   "source": [
    "print(\"Transfer Learning - Predicted versus actual\")\n",
    "print(pd.crosstab(np.argmax(test_y3,axis=1),np.argmax(pred3,axis=1)))"
   ]
  },
  {
   "cell_type": "markdown",
   "metadata": {},
   "source": [
    "### Overall Results Summary: \n",
    " - Part A: Of the 144 videos in the test dataset, Model 1 correctly predicted 42 of them (29%). Model 2 correctly predicted 44 (31%).  These stats are better than what is reported by Keras during training, as they haven't gone through the sample rebalancing. \n",
    " \n",
    "- Part B: On the other hand, we see that Model 3 tends to misclassify, only classifying to one emotion despite variability of input. We haven't succeeded in setting up a model structure that works with the pretrained model weights to get a useful prediction.  Building a workable transfer learning model for faces that can fit within our computing resources turned out to be a difficult task."
   ]
  },
  {
   "cell_type": "markdown",
   "metadata": {},
   "source": [
    "### 4. Conclusions/Lessons Learned"
   ]
  },
  {
   "cell_type": "markdown",
   "metadata": {},
   "source": [
    "In the EmotiW contestants' papers of finalists, we observed 50-60% accuracy, and we have achieved about 30% accuracy for our own models, a comparable achievement given the time constraints and the learning curve of having to deal with the complexities of a non-standardized and large video dataset. We were able to detect emotions with relative levels of accuracy, and have learned many lessons along the way.\n",
    "\n",
    "Note that for Model 3, we continually had misclassification issues. We had similar issues with the first two models, before troubleshooting and realizing that we had not scaled the data. Upon further examinations we realized the importance of this normalization. Without scaling input training vectors,the distribution range of feature values would differ for each feature, allowing the learning rate to create variable dimensional corrections, creating problematic differential compensations across inputs. This issue might prove to be problematic with the backpropagation of CNN's especially. Thus, we added these scaling methods and were able to produce the statistics we reported. However, if we had realized the challenge of working with VGG Face for our purposes earlier, we would have spent more time in trying to troubleshoot this issue in order to learn how to achieve such a tranfer learning model within our computing capacitites. Alternatively, we could and should have tested comparable methods to VGG Face to figure out whether this was a VGG specific issue we were facing. These obstacles were definitely a lesson worth learning in dealing with hefty and rich data sets and properly strategizing and reappropriating tools like VGGFace given a probable learning curve. Thus future models would 1) further tune hyperparameters of the first two model structures that functioned properly 2) work more effectively with structures like VGGFace and 3) test out more types of hybridized models (ex. combining a CNN with other RNN's we explored in class).\n",
    "\n",
    "Tasks involved in this project that we had not done before are :\n",
    "- extracting data from video files and setting relevant benchmarks\n",
    "- implemetning creative hybridization of models specific to such data\n",
    "- working with VGG Face\n",
    "\n",
    "Emotion classification from video data is a fairly new frontier in machine learning, where not much is yet known about what works the best. We have experimented in this area and learned about the challenges involved, an relatively successful effective endeavor.  The high dimensionality of the data was a big challenge given our available computing resources.  We dealt with that by training video frames resized to a smaller size and by feeding the training with a generator, although this adds to the training time required.  The model setup we have in place runs up against the memory capacity limits of JupyterHub. Moreover, we played around with different hybridized model structures, drawing off the success of such approaches we'd observed during our literature review. Although only two out of our three models performed decently, we still took away many important lessons. \n",
    "\n",
    "\n"
   ]
  },
  {
   "cell_type": "markdown",
   "metadata": {},
   "source": [
    "### IGNITE PRESENTATION LINK:\n",
    "    \n",
    "    https://docs.google.com/presentation/d/1HUtP_AxbLpatD2SBbrkN2y2s5OdI9pHcyZRGOeLWA_k/edit#slide=id.p"
   ]
  },
  {
   "cell_type": "markdown",
   "metadata": {},
   "source": [
    "References: \n",
    "\n",
    "http://cs-people.bu.edu/sbargal/ICMI16.pdf\n",
    "\n",
    "https://dl.acm.org/citation.cfm?id=3138923\n",
    "\n",
    "https://ieeexplore.ieee.org/abstract/document/7961731/\n",
    "\n",
    "https://dl.acm.org/citation.cfm?id=2997632\n",
    "\n",
    "https://www.researchgate.net/publication/320884600_Group-level_emotion_recognition_using_transfer_learning_from_face_identification"
   ]
  }
 ],
 "metadata": {
  "kernelspec": {
   "display_name": "conda_tensorflow_p27",
   "language": "python",
   "name": "conda_tensorflow_p27"
  },
  "language_info": {
   "codemirror_mode": {
    "name": "ipython",
    "version": 2
   },
   "file_extension": ".py",
   "mimetype": "text/x-python",
   "name": "python",
   "nbconvert_exporter": "python",
   "pygments_lexer": "ipython2",
   "version": "2.7.15"
  }
 },
 "nbformat": 4,
 "nbformat_minor": 2
}
